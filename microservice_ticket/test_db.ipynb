{
 "cells": [
  {
   "cell_type": "code",
   "execution_count": 10,
   "metadata": {},
   "outputs": [],
   "source": [
    "import pymysql\n",
    "import pandas as pd\n",
    "import os\n",
    "\n",
    "USERNAME = 'bf646f056d67ac'\n",
    "PASSWORD = 'c62737b8'\n",
    "HOST = 'us-cdbr-east-05.cleardb.net'\n",
    "DATABASE = 'heroku_4fd3e816ee7d4a3'\n",
    "\n",
    "def get_connect(username, passwd, host, db):\n",
    "    conn = pymysql.connect(host=host, port=3306, user=username, passwd=passwd, db=db, charset='utf8')\n",
    "    return conn"
   ]
  },
  {
   "cell_type": "code",
   "execution_count": 11,
   "metadata": {},
   "outputs": [],
   "source": [
    "conn = get_connect(USERNAME, PASSWORD, HOST, DATABASE)\n",
    "cursor = conn.cursor()"
   ]
  },
  {
   "cell_type": "code",
   "execution_count": null,
   "metadata": {},
   "outputs": [],
   "source": []
  },
  {
   "cell_type": "code",
   "execution_count": null,
   "metadata": {},
   "outputs": [],
   "source": [
    "sql_insert_order = f\"insert into booking values (null, '{123}', '小呆', '0912345678', '月老')\"\n",
    "\n",
    "try:\n",
    "    cursor.execute(sql_drop_table)\n",
    "    conn.commit()\n",
    "except Exception as e:\n",
    "    print(e)"
   ]
  },
  {
   "cell_type": "code",
   "execution_count": null,
   "metadata": {},
   "outputs": [],
   "source": [
    "try:\n",
    "    # set in Heroku\n",
    "    username = os.environ['username']\n",
    "    passwd = os.environ['passwd']\n",
    "    host = os.environ['host']\n",
    "    db = os.environ['db']\n",
    "\n",
    "except:\n",
    "    config = configparser.ConfigParser()\n",
    "    config.read('mysql.ini')\n",
    "    username = config.get('mysql-url', 'username')\n",
    "    passwd = config.get('mysql-url', 'passwd')\n",
    "    host = config.get('mysql-url', 'host')\n",
    "    db = config.get('mysql-url', 'db')\n",
    "\n",
    "conn = sqlfile.initialize(username, passwd, host, db)"
   ]
  },
  {
   "cell_type": "code",
   "execution_count": null,
   "metadata": {},
   "outputs": [],
   "source": []
  },
  {
   "cell_type": "code",
   "execution_count": 6,
   "metadata": {},
   "outputs": [],
   "source": [
    "import requests\n",
    "# my_data = {'key1': 'value1', 'key2': 'value2'}\n",
    "user_id = \"Ub7385e82f5a34b097e8a12ec38601723\"\n",
    "my_params_insert = {\n",
    "            \"user_id\": user_id,\n",
    "            \"user_name\": \"李忠\" ,\n",
    "            \"phone\": \"0934543566\",\n",
    "            \"movie_name\": \"蜘蛛人15\",\n",
    "        }\n",
    "\n",
    "# 將資料加入 POST 請求中\n",
    "# r = requests.post('http://127.0.0.1:5000/ticket', json=my_data)\n",
    "# r = requests.get('http://127.0.0.1:5000/ticket', json=my_params_insert)\n",
    "r = requests.post('http://127.0.0.1:5000/ticket', json=my_params_insert)"
   ]
  },
  {
   "cell_type": "code",
   "execution_count": 1,
   "metadata": {},
   "outputs": [],
   "source": [
    "import requests\n",
    "import json\n",
    "\n",
    "data = {\"user_id\": \"Ub7385e82f5a34b097e8a12ec38601723\"}\n",
    "\n",
    "resp = requests.get(\"http://127.0.0.1:5000/ticket\", data=json.dumps(data))"
   ]
  },
  {
   "cell_type": "code",
   "execution_count": 11,
   "metadata": {},
   "outputs": [
    {
     "data": {
      "text/plain": [
       "<Response [200]>"
      ]
     },
     "execution_count": 11,
     "metadata": {},
     "output_type": "execute_result"
    }
   ],
   "source": [
    "resp"
   ]
  }
 ],
 "metadata": {
  "kernelspec": {
   "display_name": "Python 3",
   "language": "python",
   "name": "python3"
  },
  "language_info": {
   "codemirror_mode": {
    "name": "ipython",
    "version": 3
   },
   "file_extension": ".py",
   "mimetype": "text/x-python",
   "name": "python",
   "nbconvert_exporter": "python",
   "pygments_lexer": "ipython3",
   "version": "3.8.0"
  }
 },
 "nbformat": 4,
 "nbformat_minor": 5
}
